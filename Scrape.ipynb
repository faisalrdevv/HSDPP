{
 "cells": [
  {
   "cell_type": "code",
   "execution_count": 1,
   "metadata": {
    "collapsed": true
   },
   "outputs": [],
   "source": [
    "import snscrape.modules.twitter as sntwitter\n",
    "import pandas as pd"
   ]
  },
  {
   "cell_type": "code",
   "execution_count": 5,
   "outputs": [
    {
     "ename": "SyntaxError",
     "evalue": "invalid syntax (150450321.py, line 2)",
     "output_type": "error",
     "traceback": [
      "\u001B[1;36m  Cell \u001B[1;32mIn[5], line 2\u001B[1;36m\u001B[0m\n\u001B[1;33m    limit =\u001B[0m\n\u001B[1;37m            ^\u001B[0m\n\u001B[1;31mSyntaxError\u001B[0m\u001B[1;31m:\u001B[0m invalid syntax\n"
     ]
    }
   ],
   "source": [
    "#Query Limit\n",
    "limit = \n",
    "tweets_list = []\n",
    "#Query\n",
    "query = \"((from:AliAminKhanPTI OR from:AqrabaFatima OR from:ArifAlvi OR from:Asad OR from:Umar OR from:AseefaBZ OR from:BBhuttoZardari OR from:betterpakistan OR from:ChParvezElahi OR from:CMShehbaz OR from:fawadchaudhry OR from:HamzaSS OR from:hinaparvezbutt OR from:KhawajaMAsif OR from:Marriyum_A OR from:MaryamNSharif OR from:MIshaqDar50 OR from:MuradSaeedPTI OR from:Nawaz OR from:SharifMNS OR from:QasimKhanSuri OR from:Qasimsoomro) since:2018-01-01\"\n",
    "for tweet in sntwitter.TwitterSearchScraper(query).get_items():\n",
    "    if len(tweets_list) == limit:\n",
    "        break\n",
    "    else:\n",
    "        tweets_list.append([tweet.date, tweet.user.username, tweet.user.displayname, tweet.replyCount,\n",
    "                            tweet.retweetCount, tweet.likeCount, tweet.lang, tweet.content])\n",
    "data = pd.DataFrame(tweets_list, columns=['date','username','display name','reply count','tweet count','likes','language','tweet'])\n",
    "print(data)"
   ],
   "metadata": {
    "collapsed": false
   }
  },
  {
   "cell_type": "code",
   "execution_count": 20,
   "outputs": [],
   "source": [
    "# to save to csv\n",
    "data.to_csv('Twitter SN Dataset.csv')"
   ],
   "metadata": {
    "collapsed": false
   }
  }
 ],
 "metadata": {
  "kernelspec": {
   "display_name": "Python 3",
   "language": "python",
   "name": "python3"
  },
  "language_info": {
   "codemirror_mode": {
    "name": "ipython",
    "version": 2
   },
   "file_extension": ".py",
   "mimetype": "text/x-python",
   "name": "python",
   "nbconvert_exporter": "python",
   "pygments_lexer": "ipython2",
   "version": "2.7.6"
  }
 },
 "nbformat": 4,
 "nbformat_minor": 0
}
