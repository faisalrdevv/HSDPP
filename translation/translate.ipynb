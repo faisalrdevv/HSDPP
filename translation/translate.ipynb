{
 "cells": [
  {
   "cell_type": "code",
   "execution_count": 22,
   "outputs": [],
   "source": [
    "import pandas as pd\n",
    "import numpy as numpy\n",
    "import translators as tss"
   ],
   "metadata": {
    "collapsed": false
   }
  },
  {
   "cell_type": "code",
   "execution_count": 19,
   "outputs": [
    {
     "data": {
      "text/plain": "\"I'm going to school\""
     },
     "execution_count": 19,
     "metadata": {},
     "output_type": "execute_result"
    }
   ],
   "source": [
    "tss.translate_text('میں سکول جاتا ہوں')"
   ],
   "metadata": {
    "collapsed": false
   }
  },
  {
   "cell_type": "code",
   "execution_count": 24,
   "outputs": [
    {
     "data": {
      "text/plain": "   Unnamed: 0                       date        username  \\\n0           0  2022-11-28 20:07:39+00:00  hinaparvezbutt   \n1           1  2022-11-28 18:52:10+00:00   MuradSaeedPTI   \n2           2  2022-11-28 18:23:32+00:00  AliAminKhanPTI   \n3           3  2022-11-28 17:35:24+00:00        ArifAlvi   \n4           4  2022-11-28 17:16:53+00:00    KhawajaMAsif   \n\n             display name  reply count  tweet count  likes language  \\\n0        Hina Parvez Butt          172           62    348       ur   \n1             Murad Saeed          163         2384   6319      zxx   \n2  Ali Amin Khan Gandapur           41          823   2063       en   \n3           Dr. Arif Alvi           98          342   2998       ur   \n4         Khawaja M. Asif          464          655   2168       ur   \n\n                                               tweet  \n0  نواز شریف نے عمران خان کو ایسا فیض یاب کیا ہے ...  \n1                            https://t.co/0XXmNKLJZp  \n2  Knock , knock , knock ……..Azam swati a senator...  \n3  میرے بڑے بھائی کے جیسے بہت ہی پیارے دوست، ایس ...  \n4  عمران خان جیو اور شاہزیب خانزادہ کو عدالت لے ک...  ",
      "text/html": "<div>\n<style scoped>\n    .dataframe tbody tr th:only-of-type {\n        vertical-align: middle;\n    }\n\n    .dataframe tbody tr th {\n        vertical-align: top;\n    }\n\n    .dataframe thead th {\n        text-align: right;\n    }\n</style>\n<table border=\"1\" class=\"dataframe\">\n  <thead>\n    <tr style=\"text-align: right;\">\n      <th></th>\n      <th>Unnamed: 0</th>\n      <th>date</th>\n      <th>username</th>\n      <th>display name</th>\n      <th>reply count</th>\n      <th>tweet count</th>\n      <th>likes</th>\n      <th>language</th>\n      <th>tweet</th>\n    </tr>\n  </thead>\n  <tbody>\n    <tr>\n      <th>0</th>\n      <td>0</td>\n      <td>2022-11-28 20:07:39+00:00</td>\n      <td>hinaparvezbutt</td>\n      <td>Hina Parvez Butt</td>\n      <td>172</td>\n      <td>62</td>\n      <td>348</td>\n      <td>ur</td>\n      <td>نواز شریف نے عمران خان کو ایسا فیض یاب کیا ہے ...</td>\n    </tr>\n    <tr>\n      <th>1</th>\n      <td>1</td>\n      <td>2022-11-28 18:52:10+00:00</td>\n      <td>MuradSaeedPTI</td>\n      <td>Murad Saeed</td>\n      <td>163</td>\n      <td>2384</td>\n      <td>6319</td>\n      <td>zxx</td>\n      <td>https://t.co/0XXmNKLJZp</td>\n    </tr>\n    <tr>\n      <th>2</th>\n      <td>2</td>\n      <td>2022-11-28 18:23:32+00:00</td>\n      <td>AliAminKhanPTI</td>\n      <td>Ali Amin Khan Gandapur</td>\n      <td>41</td>\n      <td>823</td>\n      <td>2063</td>\n      <td>en</td>\n      <td>Knock , knock , knock ……..Azam swati a senator...</td>\n    </tr>\n    <tr>\n      <th>3</th>\n      <td>3</td>\n      <td>2022-11-28 17:35:24+00:00</td>\n      <td>ArifAlvi</td>\n      <td>Dr. Arif Alvi</td>\n      <td>98</td>\n      <td>342</td>\n      <td>2998</td>\n      <td>ur</td>\n      <td>میرے بڑے بھائی کے جیسے بہت ہی پیارے دوست، ایس ...</td>\n    </tr>\n    <tr>\n      <th>4</th>\n      <td>4</td>\n      <td>2022-11-28 17:16:53+00:00</td>\n      <td>KhawajaMAsif</td>\n      <td>Khawaja M. Asif</td>\n      <td>464</td>\n      <td>655</td>\n      <td>2168</td>\n      <td>ur</td>\n      <td>عمران خان جیو اور شاہزیب خانزادہ کو عدالت لے ک...</td>\n    </tr>\n  </tbody>\n</table>\n</div>"
     },
     "execution_count": 24,
     "metadata": {},
     "output_type": "execute_result"
    }
   ],
   "source": [
    "df = pd.read_csv('tw test.csv', index_col=False)\n",
    "df.head()"
   ],
   "metadata": {
    "collapsed": false
   }
  },
  {
   "cell_type": "code",
   "execution_count": 33,
   "outputs": [
    {
     "ename": "HTTPError",
     "evalue": "429 Client Error: Too Many Requests for url: https://www.bing.com/ttranslatev3?isVertical=1&&IG=8B52DB6B37834437BB45D3DB05C9CB85&IID=translator.5023.80",
     "output_type": "error",
     "traceback": [
      "\u001B[1;31m---------------------------------------------------------------------------\u001B[0m",
      "\u001B[1;31mHTTPError\u001B[0m                                 Traceback (most recent call last)",
      "Cell \u001B[1;32mIn[33], line 5\u001B[0m\n\u001B[0;32m      3\u001B[0m tw \u001B[38;5;241m=\u001B[39m df\u001B[38;5;241m.\u001B[39mtweet[x]\n\u001B[0;32m      4\u001B[0m \u001B[38;5;66;03m# print(tw)\u001B[39;00m\n\u001B[1;32m----> 5\u001B[0m ttweet \u001B[38;5;241m=\u001B[39m \u001B[43mtss\u001B[49m\u001B[38;5;241;43m.\u001B[39;49m\u001B[43mtranslate_text\u001B[49m\u001B[43m(\u001B[49m\u001B[43mtw\u001B[49m\u001B[43m)\u001B[49m\n\u001B[0;32m      6\u001B[0m \u001B[38;5;66;03m# print(ttweet)\u001B[39;00m\n\u001B[0;32m      7\u001B[0m tlist\u001B[38;5;241m.\u001B[39mappend(ttweet)\n",
      "File \u001B[1;32mD:\\Research Project\\Twitter Snscrape\\venv\\lib\\site-packages\\translators\\servers.py:2557\u001B[0m, in \u001B[0;36mTranslatorsServer.translate_text\u001B[1;34m(self, query_text, translator, from_language, to_language, **kwargs)\u001B[0m\n\u001B[0;32m   2555\u001B[0m \u001B[38;5;28;01mif\u001B[39;00m translator \u001B[38;5;129;01mnot\u001B[39;00m \u001B[38;5;129;01min\u001B[39;00m \u001B[38;5;28mself\u001B[39m\u001B[38;5;241m.\u001B[39mtranslators_pool:\n\u001B[0;32m   2556\u001B[0m     \u001B[38;5;28;01mraise\u001B[39;00m TranslatorError\n\u001B[1;32m-> 2557\u001B[0m \u001B[38;5;28;01mreturn\u001B[39;00m \u001B[38;5;28mself\u001B[39m\u001B[38;5;241m.\u001B[39mtranslators_dict[translator](query_text\u001B[38;5;241m=\u001B[39mquery_text, from_language\u001B[38;5;241m=\u001B[39mfrom_language, to_language\u001B[38;5;241m=\u001B[39mto_language, \u001B[38;5;241m*\u001B[39m\u001B[38;5;241m*\u001B[39mkwargs)\n",
      "File \u001B[1;32mD:\\Research Project\\Twitter Snscrape\\venv\\lib\\site-packages\\translators\\servers.py:984\u001B[0m, in \u001B[0;36mBing.bing_api\u001B[1;34m(self, query_text, from_language, to_language, **kwargs)\u001B[0m\n\u001B[0;32m    982\u001B[0m     form_data\u001B[38;5;241m.\u001B[39mupdate(\u001B[38;5;28mself\u001B[39m\u001B[38;5;241m.\u001B[39mtk)\n\u001B[0;32m    983\u001B[0m     r \u001B[38;5;241m=\u001B[39m ss\u001B[38;5;241m.\u001B[39mpost(\u001B[38;5;28mself\u001B[39m\u001B[38;5;241m.\u001B[39mapi_url, headers\u001B[38;5;241m=\u001B[39m\u001B[38;5;28mself\u001B[39m\u001B[38;5;241m.\u001B[39mhost_headers, data\u001B[38;5;241m=\u001B[39mform_data, timeout\u001B[38;5;241m=\u001B[39mtimeout, proxies\u001B[38;5;241m=\u001B[39mproxies)\n\u001B[1;32m--> 984\u001B[0m     \u001B[43mr\u001B[49m\u001B[38;5;241;43m.\u001B[39;49m\u001B[43mraise_for_status\u001B[49m\u001B[43m(\u001B[49m\u001B[43m)\u001B[49m\n\u001B[0;32m    985\u001B[0m     data \u001B[38;5;241m=\u001B[39m r\u001B[38;5;241m.\u001B[39mjson()\n\u001B[0;32m    986\u001B[0m time\u001B[38;5;241m.\u001B[39msleep(sleep_seconds)\n",
      "File \u001B[1;32mD:\\Research Project\\Twitter Snscrape\\venv\\lib\\site-packages\\requests\\models.py:1021\u001B[0m, in \u001B[0;36mResponse.raise_for_status\u001B[1;34m(self)\u001B[0m\n\u001B[0;32m   1016\u001B[0m     http_error_msg \u001B[38;5;241m=\u001B[39m (\n\u001B[0;32m   1017\u001B[0m         \u001B[38;5;124mf\u001B[39m\u001B[38;5;124m\"\u001B[39m\u001B[38;5;132;01m{\u001B[39;00m\u001B[38;5;28mself\u001B[39m\u001B[38;5;241m.\u001B[39mstatus_code\u001B[38;5;132;01m}\u001B[39;00m\u001B[38;5;124m Server Error: \u001B[39m\u001B[38;5;132;01m{\u001B[39;00mreason\u001B[38;5;132;01m}\u001B[39;00m\u001B[38;5;124m for url: \u001B[39m\u001B[38;5;132;01m{\u001B[39;00m\u001B[38;5;28mself\u001B[39m\u001B[38;5;241m.\u001B[39murl\u001B[38;5;132;01m}\u001B[39;00m\u001B[38;5;124m\"\u001B[39m\n\u001B[0;32m   1018\u001B[0m     )\n\u001B[0;32m   1020\u001B[0m \u001B[38;5;28;01mif\u001B[39;00m http_error_msg:\n\u001B[1;32m-> 1021\u001B[0m     \u001B[38;5;28;01mraise\u001B[39;00m HTTPError(http_error_msg, response\u001B[38;5;241m=\u001B[39m\u001B[38;5;28mself\u001B[39m)\n",
      "\u001B[1;31mHTTPError\u001B[0m: 429 Client Error: Too Many Requests for url: https://www.bing.com/ttranslatev3?isVertical=1&&IG=8B52DB6B37834437BB45D3DB05C9CB85&IID=translator.5023.80"
     ]
    }
   ],
   "source": [
    "tlist = []\n",
    "for x in range(len(df)):\n",
    "    tw = df.tweet[x]\n",
    "    # print(tw)\n",
    "    ttweet = tss.translate_text(tw)\n",
    "    # print(ttweet)\n",
    "    # tlist.append(ttweet)\n",
    "    df['clean_tweet']=tlist"
   ],
   "metadata": {
    "collapsed": false
   }
  }
 ],
 "metadata": {
  "kernelspec": {
   "display_name": "Python 3",
   "language": "python",
   "name": "python3"
  },
  "language_info": {
   "codemirror_mode": {
    "name": "ipython",
    "version": 2
   },
   "file_extension": ".py",
   "mimetype": "text/x-python",
   "name": "python",
   "nbconvert_exporter": "python",
   "pygments_lexer": "ipython2",
   "version": "2.7.6"
  }
 },
 "nbformat": 4,
 "nbformat_minor": 0
}
