{
 "cells": [
  {
   "cell_type": "code",
   "execution_count": 6,
   "metadata": {
    "collapsed": true
   },
   "outputs": [],
   "source": [
    "import snscrape.modules.twitter as sntwitter\n",
    "import pandas as pd"
   ]
  },
  {
   "cell_type": "code",
   "execution_count": 7,
   "metadata": {
    "collapsed": false
   },
   "outputs": [
    {
     "name": "stdout",
     "output_type": "stream",
     "text": [
      "                       date        username            display name  \\\n",
      "0 2022-11-28 20:07:39+00:00  hinaparvezbutt        Hina Parvez Butt   \n",
      "1 2022-11-28 18:52:10+00:00   MuradSaeedPTI             Murad Saeed   \n",
      "2 2022-11-28 18:23:32+00:00  AliAminKhanPTI  Ali Amin Khan Gandapur   \n",
      "3 2022-11-28 17:35:24+00:00        ArifAlvi           Dr. Arif Alvi   \n",
      "4 2022-11-28 17:16:53+00:00    KhawajaMAsif         Khawaja M. Asif   \n",
      "\n",
      "   reply count  tweet count  likes language  \\\n",
      "0          153           55    304       ur   \n",
      "1          155         2276   6041      zxx   \n",
      "2           40          794   1997       en   \n",
      "3           98          334   2919       ur   \n",
      "4          455          646   2140       ur   \n",
      "\n",
      "                                               tweet  \n",
      "0  نواز شریف نے عمران خان کو ایسا فیض یاب کیا ہے ...  \n",
      "1                            https://t.co/0XXmNKLJZp  \n",
      "2  Knock , knock , knock ……..Azam swati a senator...  \n",
      "3  میرے بڑے بھائی کے جیسے بہت ہی پیارے دوست، ایس ...  \n",
      "4  عمران خان جیو اور شاہزیب خانزادہ کو عدالت لے ک...  \n"
     ]
    }
   ],
   "source": [
    "#Query Limit\n",
    "limit = 100000\n",
    "tweets_list = []\n",
    "#Query\n",
    "query = \"((from:AliAminKhanPTI OR from:AqrabaFatima OR from:ArifAlvi OR from:Asad OR from:Umar OR from:AseefaBZ OR from:BBhuttoZardari OR from:betterpakistan OR from:ChParvezElahi OR from:CMShehbaz OR from:fawadchaudhry OR from:HamzaSS OR from:hinaparvezbutt OR from:KhawajaMAsif OR from:Marriyum_A OR from:MaryamNSharif OR from:MIshaqDar50 OR from:MuradSaeedPTI OR from:Nawaz OR from:SharifMNS OR from:QasimKhanSuri OR from:Qasimsoomro) since:2018-01-01\"\n",
    "for tweet in sntwitter.TwitterSearchScraper(query).get_items():\n",
    "    if len(tweets_list) == limit:\n",
    "        break\n",
    "    else:\n",
    "        tweets_list.append([tweet.date, tweet.user.username, tweet.user.displayname, tweet.replyCount,\n",
    "                            tweet.retweetCount, tweet.likeCount, tweet.lang, tweet.content])\n",
    "data = pd.DataFrame(tweets_list, columns=['date','username','display name','reply count','tweet count','likes','language','tweet'])\n",
    "print(data)"
   ]
  },
  {
   "cell_type": "code",
   "execution_count": 20,
   "metadata": {
    "collapsed": false
   },
   "outputs": [],
   "source": [
    "# to save to csv\n",
    "data.to_csv('Twitter SN Dataset.csv')"
   ]
  }
 ],
 "metadata": {
  "kernelspec": {
   "display_name": "Python 3",
   "language": "python",
   "name": "python3"
  },
  "language_info": {
   "codemirror_mode": {
    "name": "ipython",
    "version": 2
   },
   "file_extension": ".py",
   "mimetype": "text/x-python",
   "name": "python",
   "nbconvert_exporter": "python",
   "pygments_lexer": "ipython2",
   "version": "2.7.6"
  }
 },
 "nbformat": 4,
 "nbformat_minor": 0
}
